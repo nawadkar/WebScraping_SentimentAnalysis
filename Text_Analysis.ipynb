{
  "cells": [
    {
      "cell_type": "code",
      "execution_count": 52,
      "metadata": {
        "id": "b1aTqR5SNg_f"
      },
      "outputs": [],
      "source": [
        "import pandas as pd\n",
        "import numpy as np\n",
        "\n",
        "df1 = pd.read_excel(\"/content/Input.xlsx\")"
      ]
    },
    {
      "cell_type": "code",
      "execution_count": null,
      "metadata": {
        "id": "NnZckFi6Nq64"
      },
      "outputs": [],
      "source": [
        "urls = [url for url in df1['URL']]"
      ]
    },
    {
      "cell_type": "code",
      "execution_count": 73,
      "metadata": {
        "id": "QrNHK8CnM4cm"
      },
      "outputs": [],
      "source": [
        "import requests\n",
        "from bs4 import BeautifulSoup\n",
        "\n",
        "def scrape_article_text(url):\n",
        "    response = requests.get(url)\n",
        "\n",
        "    if response.status_code == 200:\n",
        "\n",
        "        soup = BeautifulSoup(response.text, 'html.parser')\n",
        "\n",
        "\n",
        "        article_text_element = soup.find('div',class_='td-post-content')\n",
        "\n",
        "        if article_text_element:\n",
        "            pre_tag = article_text_element.find('pre')\n",
        "            if pre_tag:\n",
        "                pre_tag.decompose()\n",
        "\n",
        "            text = article_text_element.get_text()\n",
        "            return text\n",
        "        else:\n",
        "            print(f'No element with class containing \"td-post-content\" found in {url}')\n",
        "    else:\n",
        "        print(f'Failed to retrieve data from {url}.URL status code: {response.status_code}')"
      ]
    },
    {
      "cell_type": "code",
      "execution_count": 75,
      "metadata": {
        "colab": {
          "base_uri": "https://localhost:8080/"
        },
        "id": "6EyfqZGMONp9",
        "outputId": "80606e3d-e9c4-4850-effa-3523b07e7e60"
      },
      "outputs": [
        {
          "output_type": "stream",
          "name": "stdout",
          "text": [
            "Failed to retrieve data from https://insights.blackcoffer.com/how-neural-networks-can-be-applied-in-various-areas-in-the-future//n URL status code: 404\n",
            "Failed to retrieve data from https://insights.blackcoffer.com/covid-19-environmental-impact-for-the-future//n URL status code: 404\n"
          ]
        }
      ],
      "source": [
        "article_text_list = []\n",
        "\n",
        "for url in urls:\n",
        "    article_text = scrape_article_text(url)\n",
        "    if article_text:\n",
        "        article_text_list.append(article_text)\n",
        "    else:\n",
        "        article_text_list.append(' ')"
      ]
    },
    {
      "cell_type": "code",
      "execution_count": null,
      "metadata": {
        "id": "NCOS-2RxQvO-"
      },
      "outputs": [],
      "source": [
        "for i in range(len(article_text_list)):\n",
        "  article_text_list[i]= article_text_list[i].replace('\\n','')\n",
        "\n",
        "article_text_list"
      ]
    },
    {
      "cell_type": "code",
      "execution_count": null,
      "metadata": {
        "id": "G_o359tKSnkZ"
      },
      "outputs": [],
      "source": [
        "stopwords=[]\n",
        "stopwords_merged_file = '/content/Merged.txt'\n",
        "\n",
        "with open(stopwords_merged_file, 'r') as file:\n",
        "    for line in file:\n",
        "        word = line.strip()\n",
        "        word=word.lower()\n",
        "        stopwords.append(word)"
      ]
    },
    {
      "cell_type": "code",
      "execution_count": null,
      "metadata": {
        "id": "NQ8zQItsZtuT"
      },
      "outputs": [],
      "source": [
        "cleaned_article_text = [' ']*len(article_text_list)\n",
        "\n",
        "for i in range(len(article_text_list)):\n",
        "  for w in stopwords:\n",
        "    cleaned_article_text[i]= article_text_list[i].replace(' '+w+' ',' ')"
      ]
    },
    {
      "cell_type": "code",
      "execution_count": null,
      "metadata": {
        "colab": {
          "base_uri": "https://localhost:8080/",
          "height": 35
        },
        "id": "vjkefp2xbT-w",
        "outputId": "a820c6e7-48e8-457d-bfa6-913a8fe55b3f"
      },
      "outputs": [
        {
          "data": {
            "application/vnd.google.colaboratory.intrinsic+json": {
              "type": "string"
            },
            "text/plain": [
              "' '"
            ]
          },
          "execution_count": 8,
          "metadata": {},
          "output_type": "execute_result"
        }
      ],
      "source": [
        "cleaned_article_text[37]"
      ]
    },
    {
      "cell_type": "code",
      "execution_count": null,
      "metadata": {
        "id": "cUCTC38YitCG"
      },
      "outputs": [],
      "source": [
        "positive_words=[]\n",
        "positive_file = '/content/positive-words.txt'\n",
        "\n",
        "with open(positive_file,'r') as file:\n",
        "  for line in file:\n",
        "    word = line.strip()\n",
        "    word = word.lower()\n",
        "    positive_words.append(word)"
      ]
    },
    {
      "cell_type": "code",
      "execution_count": null,
      "metadata": {
        "id": "35GGswPvn9Hw"
      },
      "outputs": [],
      "source": [
        "positive_words"
      ]
    },
    {
      "cell_type": "code",
      "execution_count": null,
      "metadata": {
        "id": "If4x7MkQjkAL"
      },
      "outputs": [],
      "source": [
        "positive_score = [0]*len(article_text_list)\n",
        "for i in range(len(article_text_list)):\n",
        "  for word in positive_words:\n",
        "    for letter in cleaned_article_text[i].lower().split(' '):\n",
        "      if letter==word:\n",
        "        positive_score[i]+=1\n"
      ]
    },
    {
      "cell_type": "code",
      "execution_count": null,
      "metadata": {
        "id": "cFtYukTmj3Ec"
      },
      "outputs": [],
      "source": [
        "positive_score"
      ]
    },
    {
      "cell_type": "code",
      "execution_count": null,
      "metadata": {
        "id": "6ZcdDjBbli2y"
      },
      "outputs": [],
      "source": [
        "negative_words=[]\n",
        "negative_file = '/content/negative-words.txt'\n",
        "\n",
        "with open(negative_file,'r',encoding = \"ISO-8859-1\") as file:\n",
        "  for line in file:\n",
        "    word = line.strip()\n",
        "    word = word.lower()\n",
        "    negative_words.append(word)"
      ]
    },
    {
      "cell_type": "code",
      "execution_count": null,
      "metadata": {
        "colab": {
          "background_save": true
        },
        "id": "cJ4fwNtflabR"
      },
      "outputs": [],
      "source": [
        "negative_score = [0]*len(article_text_list)\n",
        "for i in range(len(article_text_list)):\n",
        "  for word in negative_words:\n",
        "    for letter in cleaned_article_text[i].lower().split(' '):\n",
        "      if letter==word:\n",
        "        negative_score[i]+=1\n"
      ]
    },
    {
      "cell_type": "code",
      "execution_count": null,
      "metadata": {
        "id": "mtgXVb0Yp6IW"
      },
      "outputs": [],
      "source": [
        "negative_score"
      ]
    },
    {
      "cell_type": "code",
      "source": [
        "import nltk\n",
        "from nltk.tokenize import sent_tokenize\n",
        "from nltk.tokenize import word_tokenize\n",
        "from nltk.corpus import stopwords\n",
        "from nltk.tokenize import word_tokenize\n",
        "from nltk.sentiment.vader import SentimentIntensityAnalyzer"
      ],
      "metadata": {
        "id": "g_DpoXm9hXI1"
      },
      "execution_count": 21,
      "outputs": []
    },
    {
      "cell_type": "code",
      "source": [
        "nltk.download('punkt')"
      ],
      "metadata": {
        "colab": {
          "base_uri": "https://localhost:8080/"
        },
        "id": "XIZxWf6HjsxV",
        "outputId": "05bfb52a-5f0b-4a63-80f0-f2bf22fee4c1"
      },
      "execution_count": 23,
      "outputs": [
        {
          "output_type": "stream",
          "name": "stderr",
          "text": [
            "[nltk_data] Downloading package punkt to /root/nltk_data...\n",
            "[nltk_data]   Unzipping tokenizers/punkt.zip.\n"
          ]
        },
        {
          "output_type": "execute_result",
          "data": {
            "text/plain": [
              "True"
            ]
          },
          "metadata": {},
          "execution_count": 23
        }
      ]
    },
    {
      "cell_type": "code",
      "source": [
        "sentences = []\n",
        "words=[]\n",
        "for article in cleaned_article_text:\n",
        "  sentences.append(len(sent_tokenize(article)))\n",
        "  words.append(len(word_tokenize(article)))"
      ],
      "metadata": {
        "id": "QrYYt2M3ji0l"
      },
      "execution_count": 26,
      "outputs": []
    },
    {
      "cell_type": "code",
      "source": [
        "words = np.array(words)\n",
        "sentences = np.array(sentences)"
      ],
      "metadata": {
        "id": "6dbtuvHlkKqm"
      },
      "execution_count": 31,
      "outputs": []
    },
    {
      "cell_type": "code",
      "source": [
        "complex_words = []\n",
        "sylabble_counts = []\n",
        "\n",
        "for article in cleaned_article_text:\n",
        "  sylabble_count=0\n",
        "  d=article.split()\n",
        "  ans=0\n",
        "  for word in d:\n",
        "    count=0\n",
        "    for i in range(len(word)):\n",
        "      if(word[i]=='a' or word[i]=='e' or word[i] =='i' or word[i] == 'o' or word[i] == 'u'):\n",
        "           count+=1\n",
        "          #  print(words[i])\n",
        "      if(i==len(word)-2 and (word[i]=='e' and word[i+1]=='d')):\n",
        "        count-=1;\n",
        "      if(i==len(word)-2 and (word[i]=='e' and word[i]=='s')):\n",
        "        count-=1;\n",
        "    sylabble_count+=count\n",
        "    if(count>2):\n",
        "        ans+=1\n",
        "  sylabble_counts.append(sylabble_count)\n",
        "  complex_words.append(ans)"
      ],
      "metadata": {
        "id": "xgegIHo3kVio"
      },
      "execution_count": 77,
      "outputs": []
    },
    {
      "cell_type": "code",
      "source": [
        "total_characters = []\n",
        "for article in cleaned_article_text:\n",
        "  characters = 0\n",
        "  for word in article.split():\n",
        "    characters+=len(word)\n",
        "  total_characters.append(characters)"
      ],
      "metadata": {
        "id": "duMTE19Glky8"
      },
      "execution_count": 33,
      "outputs": []
    },
    {
      "cell_type": "code",
      "source": [
        "personal_nouns = []\n",
        "personal_noun =['I', 'we','my', 'ours','and' 'us','My','We','Ours','Us','And']\n",
        "for article in cleaned_article_text:\n",
        "  ans=0\n",
        "  for word in article:\n",
        "    if word in personal_noun:\n",
        "      ans+=1\n",
        "  personal_nouns.append(ans)"
      ],
      "metadata": {
        "id": "B_fiWTvGlrHK"
      },
      "execution_count": 34,
      "outputs": []
    },
    {
      "cell_type": "code",
      "source": [
        "df = df1"
      ],
      "metadata": {
        "id": "QHV6NrRGnnYc"
      },
      "execution_count": 53,
      "outputs": []
    },
    {
      "cell_type": "code",
      "source": [
        "df['POSITIVE SCORE'] = positive_score\n",
        "df"
      ],
      "metadata": {
        "id": "8o1AhzKElul8"
      },
      "execution_count": null,
      "outputs": []
    },
    {
      "cell_type": "code",
      "source": [
        "df['NEGATIVE SCORE'] = negative_score"
      ],
      "metadata": {
        "id": "-SJoaoN6l5Ul"
      },
      "execution_count": 56,
      "outputs": []
    },
    {
      "cell_type": "code",
      "source": [
        "df['POLARITY SCORE'] = (df['POSITIVE SCORE']-df['NEGATIVE SCORE'])/ ((df['POSITIVE SCORE'] +df['NEGATIVE SCORE']) + 0.000001)"
      ],
      "metadata": {
        "id": "ODYrTLsPl9q3"
      },
      "execution_count": 57,
      "outputs": []
    },
    {
      "cell_type": "code",
      "source": [
        "df['SUBJECTIVITY SCORE'] = (df['POSITIVE SCORE'] + df['NEGATIVE SCORE'])/( (words) + 0.000001)"
      ],
      "metadata": {
        "id": "8hHyUkt8l_HH"
      },
      "execution_count": 58,
      "outputs": []
    },
    {
      "cell_type": "code",
      "source": [
        "df['AVG SENTENCE LENGTH'] = np.array(words)/np.array(sentences)"
      ],
      "metadata": {
        "colab": {
          "base_uri": "https://localhost:8080/"
        },
        "id": "Tot9s-UvmDn_",
        "outputId": "a95f18dc-72bf-4c54-be3c-517ac1bfc12f"
      },
      "execution_count": 59,
      "outputs": [
        {
          "output_type": "stream",
          "name": "stderr",
          "text": [
            "<ipython-input-59-b4102d65ebc0>:1: RuntimeWarning: invalid value encountered in divide\n",
            "  df['AVG SENTENCE LENGTH'] = np.array(words)/np.array(sentences)\n"
          ]
        }
      ]
    },
    {
      "cell_type": "code",
      "source": [
        "df['PERCENTAGE OF COMPLEX WORDS'] = np.array(complex_words)/np.array(words)"
      ],
      "metadata": {
        "colab": {
          "base_uri": "https://localhost:8080/"
        },
        "id": "FL29NjTvmKtD",
        "outputId": "78aaf639-2d85-4f20-98c1-ac16cd5bec23"
      },
      "execution_count": 60,
      "outputs": [
        {
          "output_type": "stream",
          "name": "stderr",
          "text": [
            "<ipython-input-60-ad31425619b8>:1: RuntimeWarning: invalid value encountered in divide\n",
            "  df['PERCENTAGE OF COMPLEX WORDS'] = np.array(complex_words)/np.array(words)\n"
          ]
        }
      ]
    },
    {
      "cell_type": "code",
      "source": [
        "df['FOG INDEX'] = 0.4 * (df['AVG SENTENCE LENGTH'] + df['PERCENTAGE OF COMPLEX WORDS'])"
      ],
      "metadata": {
        "id": "BJ4x9EQamSCX"
      },
      "execution_count": 61,
      "outputs": []
    },
    {
      "cell_type": "code",
      "source": [
        "df['AVG NUMBER OF WORDS PER SENTENCES'] = df['AVG SENTENCE LENGTH']"
      ],
      "metadata": {
        "id": "Du9jhXBomVQW"
      },
      "execution_count": 62,
      "outputs": []
    },
    {
      "cell_type": "code",
      "source": [
        "df['COMPLEX WORD COUNT'] = complex_words"
      ],
      "metadata": {
        "id": "vwl2NTpkmaVf"
      },
      "execution_count": 63,
      "outputs": []
    },
    {
      "cell_type": "code",
      "source": [
        "df['WORD COUNT'] = words"
      ],
      "metadata": {
        "id": "uxuyqfx-mb4N"
      },
      "execution_count": 64,
      "outputs": []
    },
    {
      "cell_type": "code",
      "source": [
        "df['SYLLABLE PER WORD'] = np.array(sylabble_counts)/np.array(words)"
      ],
      "metadata": {
        "colab": {
          "base_uri": "https://localhost:8080/"
        },
        "id": "NbcmCpIDmeAj",
        "outputId": "bcc68035-73ed-43e4-c4e4-51b63cb951d1"
      },
      "execution_count": 65,
      "outputs": [
        {
          "output_type": "stream",
          "name": "stderr",
          "text": [
            "<ipython-input-65-ede53e0923f2>:1: RuntimeWarning: invalid value encountered in divide\n",
            "  df['SYLLABLE PER WORD'] = np.array(sylabble_counts)/np.array(words)\n"
          ]
        }
      ]
    },
    {
      "cell_type": "code",
      "source": [
        "df['PERSONAL PRONOUN'] = personal_nouns"
      ],
      "metadata": {
        "id": "0PeUIjM_miS_"
      },
      "execution_count": 66,
      "outputs": []
    },
    {
      "cell_type": "code",
      "source": [
        "df['AVG WORD LENGTH'] = np.array(total_characters)/np.array(words)"
      ],
      "metadata": {
        "colab": {
          "base_uri": "https://localhost:8080/"
        },
        "id": "pnRSHTTsmjvH",
        "outputId": "b83d793c-114c-4aeb-e6ec-94c2403061d3"
      },
      "execution_count": 67,
      "outputs": [
        {
          "output_type": "stream",
          "name": "stderr",
          "text": [
            "<ipython-input-67-570ce97e01e7>:1: RuntimeWarning: invalid value encountered in divide\n",
            "  df['AVG WORD LENGTH'] = np.array(total_characters)/np.array(words)\n"
          ]
        }
      ]
    },
    {
      "cell_type": "code",
      "source": [
        "df"
      ],
      "metadata": {
        "colab": {
          "base_uri": "https://localhost:8080/",
          "height": 632
        },
        "id": "tuGB58Kkmkpn",
        "outputId": "5f708c5f-0148-488f-d7fc-e5cf37b37435"
      },
      "execution_count": 68,
      "outputs": [
        {
          "output_type": "execute_result",
          "data": {
            "text/plain": [
              "      URL_ID                                                URL  \\\n",
              "0      123.0  https://insights.blackcoffer.com/rise-of-telem...   \n",
              "1      321.0  https://insights.blackcoffer.com/rise-of-e-hea...   \n",
              "2     2345.0  https://insights.blackcoffer.com/rise-of-e-hea...   \n",
              "3     4321.0  https://insights.blackcoffer.com/rise-of-telem...   \n",
              "4      432.0  https://insights.blackcoffer.com/rise-of-telem...   \n",
              "..       ...                                                ...   \n",
              "109  50921.0  https://insights.blackcoffer.com/coronavirus-i...   \n",
              "110  51382.8  https://insights.blackcoffer.com/coronavirus-i...   \n",
              "111  51844.6  https://insights.blackcoffer.com/what-are-the-...   \n",
              "112  52306.4  https://insights.blackcoffer.com/marketing-dri...   \n",
              "113  52768.2  https://insights.blackcoffer.com/continued-dem...   \n",
              "\n",
              "     POSITIVE SCORE  NEGATIVE SCORE  POLARITY SCORE  SUBJECTIVITY SCORE  \\\n",
              "0                72              19        0.582418            0.050952   \n",
              "1                40              11        0.568627            0.079937   \n",
              "2                23              20        0.069767            0.036165   \n",
              "3                39              24        0.238095            0.047511   \n",
              "4                39              24        0.238095            0.047511   \n",
              "..              ...             ...             ...                 ...   \n",
              "109               8              19       -0.407407            0.038190   \n",
              "110              24              48       -0.333333            0.040404   \n",
              "111              77              20        0.587629            0.050311   \n",
              "112              27              16        0.255814            0.028859   \n",
              "113              45              21        0.363636            0.062205   \n",
              "\n",
              "     AVG SENTENCE LENGTH  PERCENTAGE OF COMPLEX WORDS  FOG INDEX  \\\n",
              "0              31.892857                     0.318589  12.884578   \n",
              "1              33.578947                     0.321317  13.560106   \n",
              "2              18.873016                     0.253995   7.650804   \n",
              "3              28.826087                     0.288084  11.645669   \n",
              "4              28.826087                     0.288084  11.645669   \n",
              "..                   ...                          ...        ...   \n",
              "109            37.210526                     0.247525  14.983220   \n",
              "110           162.000000                     0.219978  64.887991   \n",
              "111            31.096774                     0.243776  12.536220   \n",
              "112            26.607143                     0.235570  10.737085   \n",
              "113            30.314286                     0.327050  12.256534   \n",
              "\n",
              "     AVG NUMBER OF WORDS PER SENTENCES  COMPLEX WORD COUNT  WORD COUNT  \\\n",
              "0                            31.892857                 569        1786   \n",
              "1                            33.578947                 205         638   \n",
              "2                            18.873016                 302        1189   \n",
              "3                            28.826087                 382        1326   \n",
              "4                            28.826087                 382        1326   \n",
              "..                                 ...                 ...         ...   \n",
              "109                          37.210526                 175         707   \n",
              "110                         162.000000                 392        1782   \n",
              "111                          31.096774                 470        1928   \n",
              "112                          26.607143                 351        1490   \n",
              "113                          30.314286                 347        1061   \n",
              "\n",
              "     SYLLABLE PER WORD  PERSONAL PRONOUN  AVG WORD LENGTH  \n",
              "0             2.023516                12         5.284434  \n",
              "1             2.000000                 4         5.203762  \n",
              "2             1.732548                21         4.867956  \n",
              "3             1.874057                19         5.165158  \n",
              "4             1.874057                19         5.165158  \n",
              "..                 ...               ...              ...  \n",
              "109           1.801980                 6         5.165488  \n",
              "110           1.786756                32         4.967452  \n",
              "111           1.727697                15         4.823651  \n",
              "112           1.738255                16         4.919463  \n",
              "113           2.051838                13         5.589067  \n",
              "\n",
              "[114 rows x 15 columns]"
            ],
            "text/html": [
              "\n",
              "  <div id=\"df-8864cce3-339a-4a6e-8ced-caa5d59c144b\" class=\"colab-df-container\">\n",
              "    <div>\n",
              "<style scoped>\n",
              "    .dataframe tbody tr th:only-of-type {\n",
              "        vertical-align: middle;\n",
              "    }\n",
              "\n",
              "    .dataframe tbody tr th {\n",
              "        vertical-align: top;\n",
              "    }\n",
              "\n",
              "    .dataframe thead th {\n",
              "        text-align: right;\n",
              "    }\n",
              "</style>\n",
              "<table border=\"1\" class=\"dataframe\">\n",
              "  <thead>\n",
              "    <tr style=\"text-align: right;\">\n",
              "      <th></th>\n",
              "      <th>URL_ID</th>\n",
              "      <th>URL</th>\n",
              "      <th>POSITIVE SCORE</th>\n",
              "      <th>NEGATIVE SCORE</th>\n",
              "      <th>POLARITY SCORE</th>\n",
              "      <th>SUBJECTIVITY SCORE</th>\n",
              "      <th>AVG SENTENCE LENGTH</th>\n",
              "      <th>PERCENTAGE OF COMPLEX WORDS</th>\n",
              "      <th>FOG INDEX</th>\n",
              "      <th>AVG NUMBER OF WORDS PER SENTENCES</th>\n",
              "      <th>COMPLEX WORD COUNT</th>\n",
              "      <th>WORD COUNT</th>\n",
              "      <th>SYLLABLE PER WORD</th>\n",
              "      <th>PERSONAL PRONOUN</th>\n",
              "      <th>AVG WORD LENGTH</th>\n",
              "    </tr>\n",
              "  </thead>\n",
              "  <tbody>\n",
              "    <tr>\n",
              "      <th>0</th>\n",
              "      <td>123.0</td>\n",
              "      <td>https://insights.blackcoffer.com/rise-of-telem...</td>\n",
              "      <td>72</td>\n",
              "      <td>19</td>\n",
              "      <td>0.582418</td>\n",
              "      <td>0.050952</td>\n",
              "      <td>31.892857</td>\n",
              "      <td>0.318589</td>\n",
              "      <td>12.884578</td>\n",
              "      <td>31.892857</td>\n",
              "      <td>569</td>\n",
              "      <td>1786</td>\n",
              "      <td>2.023516</td>\n",
              "      <td>12</td>\n",
              "      <td>5.284434</td>\n",
              "    </tr>\n",
              "    <tr>\n",
              "      <th>1</th>\n",
              "      <td>321.0</td>\n",
              "      <td>https://insights.blackcoffer.com/rise-of-e-hea...</td>\n",
              "      <td>40</td>\n",
              "      <td>11</td>\n",
              "      <td>0.568627</td>\n",
              "      <td>0.079937</td>\n",
              "      <td>33.578947</td>\n",
              "      <td>0.321317</td>\n",
              "      <td>13.560106</td>\n",
              "      <td>33.578947</td>\n",
              "      <td>205</td>\n",
              "      <td>638</td>\n",
              "      <td>2.000000</td>\n",
              "      <td>4</td>\n",
              "      <td>5.203762</td>\n",
              "    </tr>\n",
              "    <tr>\n",
              "      <th>2</th>\n",
              "      <td>2345.0</td>\n",
              "      <td>https://insights.blackcoffer.com/rise-of-e-hea...</td>\n",
              "      <td>23</td>\n",
              "      <td>20</td>\n",
              "      <td>0.069767</td>\n",
              "      <td>0.036165</td>\n",
              "      <td>18.873016</td>\n",
              "      <td>0.253995</td>\n",
              "      <td>7.650804</td>\n",
              "      <td>18.873016</td>\n",
              "      <td>302</td>\n",
              "      <td>1189</td>\n",
              "      <td>1.732548</td>\n",
              "      <td>21</td>\n",
              "      <td>4.867956</td>\n",
              "    </tr>\n",
              "    <tr>\n",
              "      <th>3</th>\n",
              "      <td>4321.0</td>\n",
              "      <td>https://insights.blackcoffer.com/rise-of-telem...</td>\n",
              "      <td>39</td>\n",
              "      <td>24</td>\n",
              "      <td>0.238095</td>\n",
              "      <td>0.047511</td>\n",
              "      <td>28.826087</td>\n",
              "      <td>0.288084</td>\n",
              "      <td>11.645669</td>\n",
              "      <td>28.826087</td>\n",
              "      <td>382</td>\n",
              "      <td>1326</td>\n",
              "      <td>1.874057</td>\n",
              "      <td>19</td>\n",
              "      <td>5.165158</td>\n",
              "    </tr>\n",
              "    <tr>\n",
              "      <th>4</th>\n",
              "      <td>432.0</td>\n",
              "      <td>https://insights.blackcoffer.com/rise-of-telem...</td>\n",
              "      <td>39</td>\n",
              "      <td>24</td>\n",
              "      <td>0.238095</td>\n",
              "      <td>0.047511</td>\n",
              "      <td>28.826087</td>\n",
              "      <td>0.288084</td>\n",
              "      <td>11.645669</td>\n",
              "      <td>28.826087</td>\n",
              "      <td>382</td>\n",
              "      <td>1326</td>\n",
              "      <td>1.874057</td>\n",
              "      <td>19</td>\n",
              "      <td>5.165158</td>\n",
              "    </tr>\n",
              "    <tr>\n",
              "      <th>...</th>\n",
              "      <td>...</td>\n",
              "      <td>...</td>\n",
              "      <td>...</td>\n",
              "      <td>...</td>\n",
              "      <td>...</td>\n",
              "      <td>...</td>\n",
              "      <td>...</td>\n",
              "      <td>...</td>\n",
              "      <td>...</td>\n",
              "      <td>...</td>\n",
              "      <td>...</td>\n",
              "      <td>...</td>\n",
              "      <td>...</td>\n",
              "      <td>...</td>\n",
              "      <td>...</td>\n",
              "    </tr>\n",
              "    <tr>\n",
              "      <th>109</th>\n",
              "      <td>50921.0</td>\n",
              "      <td>https://insights.blackcoffer.com/coronavirus-i...</td>\n",
              "      <td>8</td>\n",
              "      <td>19</td>\n",
              "      <td>-0.407407</td>\n",
              "      <td>0.038190</td>\n",
              "      <td>37.210526</td>\n",
              "      <td>0.247525</td>\n",
              "      <td>14.983220</td>\n",
              "      <td>37.210526</td>\n",
              "      <td>175</td>\n",
              "      <td>707</td>\n",
              "      <td>1.801980</td>\n",
              "      <td>6</td>\n",
              "      <td>5.165488</td>\n",
              "    </tr>\n",
              "    <tr>\n",
              "      <th>110</th>\n",
              "      <td>51382.8</td>\n",
              "      <td>https://insights.blackcoffer.com/coronavirus-i...</td>\n",
              "      <td>24</td>\n",
              "      <td>48</td>\n",
              "      <td>-0.333333</td>\n",
              "      <td>0.040404</td>\n",
              "      <td>162.000000</td>\n",
              "      <td>0.219978</td>\n",
              "      <td>64.887991</td>\n",
              "      <td>162.000000</td>\n",
              "      <td>392</td>\n",
              "      <td>1782</td>\n",
              "      <td>1.786756</td>\n",
              "      <td>32</td>\n",
              "      <td>4.967452</td>\n",
              "    </tr>\n",
              "    <tr>\n",
              "      <th>111</th>\n",
              "      <td>51844.6</td>\n",
              "      <td>https://insights.blackcoffer.com/what-are-the-...</td>\n",
              "      <td>77</td>\n",
              "      <td>20</td>\n",
              "      <td>0.587629</td>\n",
              "      <td>0.050311</td>\n",
              "      <td>31.096774</td>\n",
              "      <td>0.243776</td>\n",
              "      <td>12.536220</td>\n",
              "      <td>31.096774</td>\n",
              "      <td>470</td>\n",
              "      <td>1928</td>\n",
              "      <td>1.727697</td>\n",
              "      <td>15</td>\n",
              "      <td>4.823651</td>\n",
              "    </tr>\n",
              "    <tr>\n",
              "      <th>112</th>\n",
              "      <td>52306.4</td>\n",
              "      <td>https://insights.blackcoffer.com/marketing-dri...</td>\n",
              "      <td>27</td>\n",
              "      <td>16</td>\n",
              "      <td>0.255814</td>\n",
              "      <td>0.028859</td>\n",
              "      <td>26.607143</td>\n",
              "      <td>0.235570</td>\n",
              "      <td>10.737085</td>\n",
              "      <td>26.607143</td>\n",
              "      <td>351</td>\n",
              "      <td>1490</td>\n",
              "      <td>1.738255</td>\n",
              "      <td>16</td>\n",
              "      <td>4.919463</td>\n",
              "    </tr>\n",
              "    <tr>\n",
              "      <th>113</th>\n",
              "      <td>52768.2</td>\n",
              "      <td>https://insights.blackcoffer.com/continued-dem...</td>\n",
              "      <td>45</td>\n",
              "      <td>21</td>\n",
              "      <td>0.363636</td>\n",
              "      <td>0.062205</td>\n",
              "      <td>30.314286</td>\n",
              "      <td>0.327050</td>\n",
              "      <td>12.256534</td>\n",
              "      <td>30.314286</td>\n",
              "      <td>347</td>\n",
              "      <td>1061</td>\n",
              "      <td>2.051838</td>\n",
              "      <td>13</td>\n",
              "      <td>5.589067</td>\n",
              "    </tr>\n",
              "  </tbody>\n",
              "</table>\n",
              "<p>114 rows × 15 columns</p>\n",
              "</div>\n",
              "    <div class=\"colab-df-buttons\">\n",
              "\n",
              "  <div class=\"colab-df-container\">\n",
              "    <button class=\"colab-df-convert\" onclick=\"convertToInteractive('df-8864cce3-339a-4a6e-8ced-caa5d59c144b')\"\n",
              "            title=\"Convert this dataframe to an interactive table.\"\n",
              "            style=\"display:none;\">\n",
              "\n",
              "  <svg xmlns=\"http://www.w3.org/2000/svg\" height=\"24px\" viewBox=\"0 -960 960 960\">\n",
              "    <path d=\"M120-120v-720h720v720H120Zm60-500h600v-160H180v160Zm220 220h160v-160H400v160Zm0 220h160v-160H400v160ZM180-400h160v-160H180v160Zm440 0h160v-160H620v160ZM180-180h160v-160H180v160Zm440 0h160v-160H620v160Z\"/>\n",
              "  </svg>\n",
              "    </button>\n",
              "\n",
              "  <style>\n",
              "    .colab-df-container {\n",
              "      display:flex;\n",
              "      gap: 12px;\n",
              "    }\n",
              "\n",
              "    .colab-df-convert {\n",
              "      background-color: #E8F0FE;\n",
              "      border: none;\n",
              "      border-radius: 50%;\n",
              "      cursor: pointer;\n",
              "      display: none;\n",
              "      fill: #1967D2;\n",
              "      height: 32px;\n",
              "      padding: 0 0 0 0;\n",
              "      width: 32px;\n",
              "    }\n",
              "\n",
              "    .colab-df-convert:hover {\n",
              "      background-color: #E2EBFA;\n",
              "      box-shadow: 0px 1px 2px rgba(60, 64, 67, 0.3), 0px 1px 3px 1px rgba(60, 64, 67, 0.15);\n",
              "      fill: #174EA6;\n",
              "    }\n",
              "\n",
              "    .colab-df-buttons div {\n",
              "      margin-bottom: 4px;\n",
              "    }\n",
              "\n",
              "    [theme=dark] .colab-df-convert {\n",
              "      background-color: #3B4455;\n",
              "      fill: #D2E3FC;\n",
              "    }\n",
              "\n",
              "    [theme=dark] .colab-df-convert:hover {\n",
              "      background-color: #434B5C;\n",
              "      box-shadow: 0px 1px 3px 1px rgba(0, 0, 0, 0.15);\n",
              "      filter: drop-shadow(0px 1px 2px rgba(0, 0, 0, 0.3));\n",
              "      fill: #FFFFFF;\n",
              "    }\n",
              "  </style>\n",
              "\n",
              "    <script>\n",
              "      const buttonEl =\n",
              "        document.querySelector('#df-8864cce3-339a-4a6e-8ced-caa5d59c144b button.colab-df-convert');\n",
              "      buttonEl.style.display =\n",
              "        google.colab.kernel.accessAllowed ? 'block' : 'none';\n",
              "\n",
              "      async function convertToInteractive(key) {\n",
              "        const element = document.querySelector('#df-8864cce3-339a-4a6e-8ced-caa5d59c144b');\n",
              "        const dataTable =\n",
              "          await google.colab.kernel.invokeFunction('convertToInteractive',\n",
              "                                                    [key], {});\n",
              "        if (!dataTable) return;\n",
              "\n",
              "        const docLinkHtml = 'Like what you see? Visit the ' +\n",
              "          '<a target=\"_blank\" href=https://colab.research.google.com/notebooks/data_table.ipynb>data table notebook</a>'\n",
              "          + ' to learn more about interactive tables.';\n",
              "        element.innerHTML = '';\n",
              "        dataTable['output_type'] = 'display_data';\n",
              "        await google.colab.output.renderOutput(dataTable, element);\n",
              "        const docLink = document.createElement('div');\n",
              "        docLink.innerHTML = docLinkHtml;\n",
              "        element.appendChild(docLink);\n",
              "      }\n",
              "    </script>\n",
              "  </div>\n",
              "\n",
              "\n",
              "<div id=\"df-20d80513-5e6a-43e9-b4f1-e37528bc07d1\">\n",
              "  <button class=\"colab-df-quickchart\" onclick=\"quickchart('df-20d80513-5e6a-43e9-b4f1-e37528bc07d1')\"\n",
              "            title=\"Suggest charts.\"\n",
              "            style=\"display:none;\">\n",
              "\n",
              "<svg xmlns=\"http://www.w3.org/2000/svg\" height=\"24px\"viewBox=\"0 0 24 24\"\n",
              "     width=\"24px\">\n",
              "    <g>\n",
              "        <path d=\"M19 3H5c-1.1 0-2 .9-2 2v14c0 1.1.9 2 2 2h14c1.1 0 2-.9 2-2V5c0-1.1-.9-2-2-2zM9 17H7v-7h2v7zm4 0h-2V7h2v10zm4 0h-2v-4h2v4z\"/>\n",
              "    </g>\n",
              "</svg>\n",
              "  </button>\n",
              "\n",
              "<style>\n",
              "  .colab-df-quickchart {\n",
              "      --bg-color: #E8F0FE;\n",
              "      --fill-color: #1967D2;\n",
              "      --hover-bg-color: #E2EBFA;\n",
              "      --hover-fill-color: #174EA6;\n",
              "      --disabled-fill-color: #AAA;\n",
              "      --disabled-bg-color: #DDD;\n",
              "  }\n",
              "\n",
              "  [theme=dark] .colab-df-quickchart {\n",
              "      --bg-color: #3B4455;\n",
              "      --fill-color: #D2E3FC;\n",
              "      --hover-bg-color: #434B5C;\n",
              "      --hover-fill-color: #FFFFFF;\n",
              "      --disabled-bg-color: #3B4455;\n",
              "      --disabled-fill-color: #666;\n",
              "  }\n",
              "\n",
              "  .colab-df-quickchart {\n",
              "    background-color: var(--bg-color);\n",
              "    border: none;\n",
              "    border-radius: 50%;\n",
              "    cursor: pointer;\n",
              "    display: none;\n",
              "    fill: var(--fill-color);\n",
              "    height: 32px;\n",
              "    padding: 0;\n",
              "    width: 32px;\n",
              "  }\n",
              "\n",
              "  .colab-df-quickchart:hover {\n",
              "    background-color: var(--hover-bg-color);\n",
              "    box-shadow: 0 1px 2px rgba(60, 64, 67, 0.3), 0 1px 3px 1px rgba(60, 64, 67, 0.15);\n",
              "    fill: var(--button-hover-fill-color);\n",
              "  }\n",
              "\n",
              "  .colab-df-quickchart-complete:disabled,\n",
              "  .colab-df-quickchart-complete:disabled:hover {\n",
              "    background-color: var(--disabled-bg-color);\n",
              "    fill: var(--disabled-fill-color);\n",
              "    box-shadow: none;\n",
              "  }\n",
              "\n",
              "  .colab-df-spinner {\n",
              "    border: 2px solid var(--fill-color);\n",
              "    border-color: transparent;\n",
              "    border-bottom-color: var(--fill-color);\n",
              "    animation:\n",
              "      spin 1s steps(1) infinite;\n",
              "  }\n",
              "\n",
              "  @keyframes spin {\n",
              "    0% {\n",
              "      border-color: transparent;\n",
              "      border-bottom-color: var(--fill-color);\n",
              "      border-left-color: var(--fill-color);\n",
              "    }\n",
              "    20% {\n",
              "      border-color: transparent;\n",
              "      border-left-color: var(--fill-color);\n",
              "      border-top-color: var(--fill-color);\n",
              "    }\n",
              "    30% {\n",
              "      border-color: transparent;\n",
              "      border-left-color: var(--fill-color);\n",
              "      border-top-color: var(--fill-color);\n",
              "      border-right-color: var(--fill-color);\n",
              "    }\n",
              "    40% {\n",
              "      border-color: transparent;\n",
              "      border-right-color: var(--fill-color);\n",
              "      border-top-color: var(--fill-color);\n",
              "    }\n",
              "    60% {\n",
              "      border-color: transparent;\n",
              "      border-right-color: var(--fill-color);\n",
              "    }\n",
              "    80% {\n",
              "      border-color: transparent;\n",
              "      border-right-color: var(--fill-color);\n",
              "      border-bottom-color: var(--fill-color);\n",
              "    }\n",
              "    90% {\n",
              "      border-color: transparent;\n",
              "      border-bottom-color: var(--fill-color);\n",
              "    }\n",
              "  }\n",
              "</style>\n",
              "\n",
              "  <script>\n",
              "    async function quickchart(key) {\n",
              "      const quickchartButtonEl =\n",
              "        document.querySelector('#' + key + ' button');\n",
              "      quickchartButtonEl.disabled = true;  // To prevent multiple clicks.\n",
              "      quickchartButtonEl.classList.add('colab-df-spinner');\n",
              "      try {\n",
              "        const charts = await google.colab.kernel.invokeFunction(\n",
              "            'suggestCharts', [key], {});\n",
              "      } catch (error) {\n",
              "        console.error('Error during call to suggestCharts:', error);\n",
              "      }\n",
              "      quickchartButtonEl.classList.remove('colab-df-spinner');\n",
              "      quickchartButtonEl.classList.add('colab-df-quickchart-complete');\n",
              "    }\n",
              "    (() => {\n",
              "      let quickchartButtonEl =\n",
              "        document.querySelector('#df-20d80513-5e6a-43e9-b4f1-e37528bc07d1 button');\n",
              "      quickchartButtonEl.style.display =\n",
              "        google.colab.kernel.accessAllowed ? 'block' : 'none';\n",
              "    })();\n",
              "  </script>\n",
              "</div>\n",
              "    </div>\n",
              "  </div>\n"
            ]
          },
          "metadata": {},
          "execution_count": 68
        }
      ]
    },
    {
      "cell_type": "code",
      "source": [
        "df.to_csv('Output.csv')"
      ],
      "metadata": {
        "id": "JlNiWJjhnMVS"
      },
      "execution_count": 70,
      "outputs": []
    }
  ],
  "metadata": {
    "colab": {
      "provenance": []
    },
    "kernelspec": {
      "display_name": "Python 3",
      "name": "python3"
    },
    "language_info": {
      "name": "python"
    }
  },
  "nbformat": 4,
  "nbformat_minor": 0
}